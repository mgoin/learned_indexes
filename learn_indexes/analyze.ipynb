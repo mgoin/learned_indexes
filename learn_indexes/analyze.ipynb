{
 "cells": [
  {
   "cell_type": "code",
   "execution_count": null,
   "metadata": {},
   "outputs": [],
   "source": [
    "import pandas as pd\n",
    "from analyze import get_panda_from_results\n",
    "import numpy as np\n",
    "import matplotlib.pyplot as plt\n",
    "\n",
    "%matplotlib inline"
   ]
  },
  {
   "cell_type": "code",
   "execution_count": null,
   "metadata": {},
   "outputs": [],
   "source": [
    "data = get_panda_from_results()\n",
    "df = pd.DataFrame(data['model'].values.tolist())\n",
    "data = pd.concat([data, df['type']], axis=1)\n",
    "# data['type'] = data['model']['type']"
   ]
  },
  {
   "cell_type": "code",
   "execution_count": null,
   "metadata": {},
   "outputs": [],
   "source": [
    "display(data.head(3))\n",
    "print(data.shape)\n",
    "print(data.dtypes)"
   ]
  },
  {
   "cell_type": "code",
   "execution_count": null,
   "metadata": {
    "scrolled": false
   },
   "outputs": [],
   "source": [
    "data[['pre_insert_inference_time_get',]].plot(kind='bar')\n",
    "plt.xticks(range(len(data['type'])),data['type'])\n",
    "data[['pre_insert_inference_time_predict',]].plot(kind='bar')\n",
    "plt.xticks(range(len(data['type'])),data['type'])\n",
    "\n",
    "data[['post_insert_inference_time_get',]].plot(kind='bar')\n",
    "plt.xticks(range(len(data['type'])),data['type'])\n",
    "data[['post_insert_inference_time_predict',]].plot(kind='bar')\n",
    "plt.xticks(range(len(data['type'])),data['type'])\n",
    "\n",
    "data[['insert_time',]].plot(kind='bar')\n",
    "plt.xticks(range(len(data['type'])),data['type'])\n",
    "data[['train_time',]].plot(kind='bar')\n",
    "plt.xticks(range(len(data['type'])),data['type'])"
   ]
  }
 ],
 "metadata": {
  "kernelspec": {
   "display_name": "Python 3",
   "language": "python",
   "name": "python3"
  },
  "language_info": {
   "codemirror_mode": {
    "name": "ipython",
    "version": 3
   },
   "file_extension": ".py",
   "mimetype": "text/x-python",
   "name": "python",
   "nbconvert_exporter": "python",
   "pygments_lexer": "ipython3",
   "version": "3.5.2"
  },
  "toc": {
   "nav_menu": {},
   "number_sections": true,
   "sideBar": true,
   "skip_h1_title": false,
   "toc_cell": false,
   "toc_position": {},
   "toc_section_display": "block",
   "toc_window_display": false
  }
 },
 "nbformat": 4,
 "nbformat_minor": 2
}
